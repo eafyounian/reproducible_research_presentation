{
 "cells": [
  {
   "cell_type": "markdown",
   "metadata": {},
   "source": [
    "![slide-1](../presentations/slides/s1.png)"
   ]
  },
  {
   "cell_type": "markdown",
   "metadata": {},
   "source": [
    "![slide-2](../presentations/slides/s2.png)"
   ]
  },
  {
   "cell_type": "markdown",
   "metadata": {},
   "source": [
    "![slide-3](../presentations/slides/s3.png)"
   ]
  },
  {
   "cell_type": "markdown",
   "metadata": {},
   "source": [
    "![slide-4](../presentations/slides/s4.png)"
   ]
  },
  {
   "cell_type": "markdown",
   "metadata": {},
   "source": [
    "![slide-5](../presentations/slides/s5.png)"
   ]
  },
  {
   "cell_type": "markdown",
   "metadata": {},
   "source": [
    "# Jupyter Notebook demo"
   ]
  },
  {
   "cell_type": "markdown",
   "metadata": {},
   "source": [
    "### Table of contenct:\n",
    "\n",
    "- Cells  \n",
    "    - markdown \n",
    "    - code cell \n",
    "- Running BASH Commands  \n",
    "- Mixing two languages together\n",
    "- Jupyter magics  \n",
    "    - loading external code  \n",
    "    - execute Python code from outside notebook  \n",
    "- Timing the excution of a code within a cell or a function \n",
    "- Writting formulae in Latex \n",
    "- Adding link  \n",
    "- Adding image  \n",
    "- Embeding videos\n",
    "- Styling the output of a Pandas dataframe\n",
    "- A small cancer incidence vs. mortality analysis"
   ]
  },
  {
   "cell_type": "markdown",
   "metadata": {},
   "source": [
    "## Cells"
   ]
  },
  {
   "cell_type": "markdown",
   "metadata": {},
   "source": [
    "This is a markdown cell"
   ]
  },
  {
   "cell_type": "code",
   "execution_count": 2,
   "metadata": {},
   "outputs": [
    {
     "data": {
      "text/plain": [
       "False"
      ]
     },
     "execution_count": 2,
     "metadata": {},
     "output_type": "execute_result"
    }
   ],
   "source": [
    "## This is a code cell \n",
    "(0.1 + 0.2)  == 0.3"
   ]
  },
  {
   "cell_type": "markdown",
   "metadata": {},
   "source": [
    "## Running BASH commands"
   ]
  },
  {
   "cell_type": "code",
   "execution_count": 4,
   "metadata": {},
   "outputs": [
    {
     "name": "stdout",
     "output_type": "stream",
     "text": [
      "hello world.\r\n"
     ]
    }
   ],
   "source": [
    "! echo hello world.  ## provided that the OS supports BASH"
   ]
  },
  {
   "cell_type": "code",
   "execution_count": 5,
   "metadata": {},
   "outputs": [
    {
     "name": "stdout",
     "output_type": "stream",
     "text": [
      "external_code.py  reproducible_research.ipynb\r\n"
     ]
    }
   ],
   "source": [
    "!ls  ## listing the contents of the current working directory "
   ]
  },
  {
   "cell_type": "markdown",
   "metadata": {},
   "source": [
    "## Mixing two languages together (here BASH and Python)"
   ]
  },
  {
   "cell_type": "code",
   "execution_count": 6,
   "metadata": {},
   "outputs": [
    {
     "name": "stdout",
     "output_type": "stream",
     "text": [
      "../data/\n"
     ]
    }
   ],
   "source": [
    "data_path = '../data/'\n",
    "print(data_path)  ## data path is a Python variable"
   ]
  },
  {
   "cell_type": "code",
   "execution_count": 7,
   "metadata": {},
   "outputs": [
    {
     "name": "stdout",
     "output_type": "stream",
     "text": [
      "incidence_per_100k_age_standardized.xlsx\r\n",
      "mortality_per_100k_age_standardized.xlsx\r\n"
     ]
    }
   ],
   "source": [
    "!ls $data_path    ## using Python variable as argument to BASH command"
   ]
  },
  {
   "cell_type": "code",
   "execution_count": 8,
   "metadata": {},
   "outputs": [
    {
     "data": {
      "text/plain": [
       "['../data/incidence_per_100k_age_standardized.xlsx',\n",
       " '../data/mortality_per_100k_age_standardized.xlsx']"
      ]
     },
     "execution_count": 8,
     "metadata": {},
     "output_type": "execute_result"
    }
   ],
   "source": [
    "files = !find $data_path -maxdepth 1 -mindepth 1 -iname '*.xlsx' ## run BASH command and save results in Python variable\n",
    "files"
   ]
  },
  {
   "cell_type": "markdown",
   "metadata": {},
   "source": [
    "##  Magic (some examples)"
   ]
  },
  {
   "cell_type": "markdown",
   "metadata": {},
   "source": [
    "`%` denotes line magic  \n",
    "`%%` denotes cell magic"
   ]
  },
  {
   "cell_type": "markdown",
   "metadata": {},
   "source": [
    "### loading external code"
   ]
  },
  {
   "cell_type": "code",
   "execution_count": null,
   "metadata": {},
   "outputs": [],
   "source": [
    "%load external_code.py"
   ]
  },
  {
   "cell_type": "code",
   "execution_count": null,
   "metadata": {},
   "outputs": [],
   "source": [
    "# %load external_code.py\n",
    "print('Hello world!')\n"
   ]
  },
  {
   "cell_type": "markdown",
   "metadata": {},
   "source": [
    "### Execute Python code from outside notebook"
   ]
  },
  {
   "cell_type": "code",
   "execution_count": null,
   "metadata": {},
   "outputs": [],
   "source": [
    "%run external_code.py"
   ]
  },
  {
   "cell_type": "code",
   "execution_count": 9,
   "metadata": {},
   "outputs": [
    {
     "name": "stdout",
     "output_type": "stream",
     "text": [
      "Hello world!\n"
     ]
    }
   ],
   "source": [
    "%run external_code.py"
   ]
  },
  {
   "cell_type": "markdown",
   "metadata": {},
   "source": [
    "### Timing the excution of a code within a cell or a function"
   ]
  },
  {
   "cell_type": "code",
   "execution_count": 10,
   "metadata": {},
   "outputs": [
    {
     "name": "stdout",
     "output_type": "stream",
     "text": [
      "2.88 µs ± 149 ns per loop (mean ± std. dev. of 7 runs, 100000 loops each)\n"
     ]
    }
   ],
   "source": [
    "import numpy as np\n",
    "%timeit np.sin(np.arange(0,46,1))"
   ]
  },
  {
   "cell_type": "code",
   "execution_count": 11,
   "metadata": {},
   "outputs": [
    {
     "name": "stdout",
     "output_type": "stream",
     "text": [
      "CPU times: user 31.3 ms, sys: 1.13 ms, total: 32.5 ms\n",
      "Wall time: 31.4 ms\n"
     ]
    }
   ],
   "source": [
    "%%time\n",
    "for i in range(10**5):\n",
    "    j = i**2"
   ]
  },
  {
   "cell_type": "markdown",
   "metadata": {},
   "source": [
    "## Writting formulae in Latex"
   ]
  },
  {
   "cell_type": "code",
   "execution_count": null,
   "metadata": {},
   "outputs": [],
   "source": [
    "$$E = mc^2$$"
   ]
  },
  {
   "cell_type": "markdown",
   "metadata": {},
   "source": [
    "$$E = mc^2$$"
   ]
  },
  {
   "cell_type": "code",
   "execution_count": null,
   "metadata": {},
   "outputs": [],
   "source": [
    "\\\\( P(A \\mid B) = \\frac{P(B \\mid A) \\, P(A)}{P(B)} \\\\)"
   ]
  },
  {
   "cell_type": "markdown",
   "metadata": {},
   "source": [
    "\\\\( P(A \\mid B) = \\frac{P(B \\mid A) \\, P(A)}{P(B)} \\\\)"
   ]
  },
  {
   "cell_type": "markdown",
   "metadata": {},
   "source": [
    "## Adding link"
   ]
  },
  {
   "cell_type": "markdown",
   "metadata": {},
   "source": [
    "[reproducible_research](https://en.wikipedia.org/wiki/Reproducibility#Reproducible_research)"
   ]
  },
  {
   "cell_type": "markdown",
   "metadata": {},
   "source": [
    "## Adding image"
   ]
  },
  {
   "cell_type": "markdown",
   "metadata": {},
   "source": [
    "![UTA](https://research.uta.fi/pcrc/wp-content/uploads/sites/34/2017/06/cropped-uta_logo.png)"
   ]
  },
  {
   "cell_type": "markdown",
   "metadata": {},
   "source": [
    "## Embeding videos"
   ]
  },
  {
   "cell_type": "code",
   "execution_count": 12,
   "metadata": {},
   "outputs": [],
   "source": [
    "from IPython.display import YouTubeVideo"
   ]
  },
  {
   "cell_type": "code",
   "execution_count": 13,
   "metadata": {},
   "outputs": [
    {
     "data": {
      "image/jpeg": "[encoded data removed]",
      "text/html": [
       "\n",
       "        <iframe\n",
       "            width=\"600\"\n",
       "            height=\"400\"\n",
       "            src=\"https://www.youtube.com/embed/GPYzY9I78CI\"\n",
       "            frameborder=\"0\"\n",
       "            allowfullscreen\n",
       "        ></iframe>\n",
       "        "
      ],
      "text/plain": [
       "<IPython.lib.display.YouTubeVideo at 0x2ac453eed7b8>"
      ]
     },
     "execution_count": 13,
     "metadata": {},
     "output_type": "execute_result"
    }
   ],
   "source": [
    "YouTubeVideo(id='GPYzY9I78CI', width=600, height=400)"
   ]
  },
  {
   "cell_type": "markdown",
   "metadata": {},
   "source": [
    "## Styling the output of a Pandas dataframe"
   ]
  },
  {
   "cell_type": "markdown",
   "metadata": {},
   "source": [
    "### Lest's say we want to highlight the min and max values in a dataframe"
   ]
  },
  {
   "cell_type": "code",
   "execution_count": 14,
   "metadata": {},
   "outputs": [
    {
     "data": {
      "text/html": [
       "<style  type=\"text/css\" >\n",
       "    #T_e9526924_6992_11e8_a34b_14187745950frow0_col2 {\n",
       "            background-color:  red;\n",
       "            : ;\n",
       "        }    #T_e9526924_6992_11e8_a34b_14187745950frow0_col3 {\n",
       "            : ;\n",
       "            background-color:  lightblue;\n",
       "        }    #T_e9526924_6992_11e8_a34b_14187745950frow1_col0 {\n",
       "            background-color:  red;\n",
       "            : ;\n",
       "        }    #T_e9526924_6992_11e8_a34b_14187745950frow1_col5 {\n",
       "            : ;\n",
       "            background-color:  lightblue;\n",
       "        }    #T_e9526924_6992_11e8_a34b_14187745950frow2_col1 {\n",
       "            : ;\n",
       "            background-color:  lightblue;\n",
       "        }    #T_e9526924_6992_11e8_a34b_14187745950frow2_col5 {\n",
       "            background-color:  red;\n",
       "            : ;\n",
       "        }    #T_e9526924_6992_11e8_a34b_14187745950frow3_col0 {\n",
       "            : ;\n",
       "            background-color:  lightblue;\n",
       "        }    #T_e9526924_6992_11e8_a34b_14187745950frow3_col5 {\n",
       "            background-color:  red;\n",
       "            : ;\n",
       "        }</style>  \n",
       "<table id=\"T_e9526924_6992_11e8_a34b_14187745950f\" > \n",
       "<thead>    <tr> \n",
       "        <th class=\"blank level0\" ></th> \n",
       "        <th class=\"col_heading level0 col0\" >a</th> \n",
       "        <th class=\"col_heading level0 col1\" >b</th> \n",
       "        <th class=\"col_heading level0 col2\" >c</th> \n",
       "        <th class=\"col_heading level0 col3\" >d</th> \n",
       "        <th class=\"col_heading level0 col4\" >e</th> \n",
       "        <th class=\"col_heading level0 col5\" >f</th> \n",
       "    </tr></thead> \n",
       "<tbody>    <tr> \n",
       "        <th id=\"T_e9526924_6992_11e8_a34b_14187745950flevel0_row0\" class=\"row_heading level0 row0\" >0</th> \n",
       "        <td id=\"T_e9526924_6992_11e8_a34b_14187745950frow0_col0\" class=\"data row0 col0\" >103</td> \n",
       "        <td id=\"T_e9526924_6992_11e8_a34b_14187745950frow0_col1\" class=\"data row0 col1\" >815</td> \n",
       "        <td id=\"T_e9526924_6992_11e8_a34b_14187745950frow0_col2\" class=\"data row0 col2\" >934</td> \n",
       "        <td id=\"T_e9526924_6992_11e8_a34b_14187745950frow0_col3\" class=\"data row0 col3\" >71</td> \n",
       "        <td id=\"T_e9526924_6992_11e8_a34b_14187745950frow0_col4\" class=\"data row0 col4\" >639</td> \n",
       "        <td id=\"T_e9526924_6992_11e8_a34b_14187745950frow0_col5\" class=\"data row0 col5\" >116</td> \n",
       "    </tr>    <tr> \n",
       "        <th id=\"T_e9526924_6992_11e8_a34b_14187745950flevel0_row1\" class=\"row_heading level0 row1\" >1</th> \n",
       "        <td id=\"T_e9526924_6992_11e8_a34b_14187745950frow1_col0\" class=\"data row1 col0\" >1447</td> \n",
       "        <td id=\"T_e9526924_6992_11e8_a34b_14187745950frow1_col1\" class=\"data row1 col1\" >985</td> \n",
       "        <td id=\"T_e9526924_6992_11e8_a34b_14187745950frow1_col2\" class=\"data row1 col2\" >814</td> \n",
       "        <td id=\"T_e9526924_6992_11e8_a34b_14187745950frow1_col3\" class=\"data row1 col3\" >792</td> \n",
       "        <td id=\"T_e9526924_6992_11e8_a34b_14187745950frow1_col4\" class=\"data row1 col4\" >1319</td> \n",
       "        <td id=\"T_e9526924_6992_11e8_a34b_14187745950frow1_col5\" class=\"data row1 col5\" >397</td> \n",
       "    </tr>    <tr> \n",
       "        <th id=\"T_e9526924_6992_11e8_a34b_14187745950flevel0_row2\" class=\"row_heading level0 row2\" >2</th> \n",
       "        <td id=\"T_e9526924_6992_11e8_a34b_14187745950frow2_col0\" class=\"data row2 col0\" >654</td> \n",
       "        <td id=\"T_e9526924_6992_11e8_a34b_14187745950frow2_col1\" class=\"data row2 col1\" >32</td> \n",
       "        <td id=\"T_e9526924_6992_11e8_a34b_14187745950frow2_col2\" class=\"data row2 col2\" >321</td> \n",
       "        <td id=\"T_e9526924_6992_11e8_a34b_14187745950frow2_col3\" class=\"data row2 col3\" >850</td> \n",
       "        <td id=\"T_e9526924_6992_11e8_a34b_14187745950frow2_col4\" class=\"data row2 col4\" >340</td> \n",
       "        <td id=\"T_e9526924_6992_11e8_a34b_14187745950frow2_col5\" class=\"data row2 col5\" >1349</td> \n",
       "    </tr>    <tr> \n",
       "        <th id=\"T_e9526924_6992_11e8_a34b_14187745950flevel0_row3\" class=\"row_heading level0 row3\" >3</th> \n",
       "        <td id=\"T_e9526924_6992_11e8_a34b_14187745950frow3_col0\" class=\"data row3 col0\" >577</td> \n",
       "        <td id=\"T_e9526924_6992_11e8_a34b_14187745950frow3_col1\" class=\"data row3 col1\" >1211</td> \n",
       "        <td id=\"T_e9526924_6992_11e8_a34b_14187745950frow3_col2\" class=\"data row3 col2\" >1127</td> \n",
       "        <td id=\"T_e9526924_6992_11e8_a34b_14187745950frow3_col3\" class=\"data row3 col3\" >1098</td> \n",
       "        <td id=\"T_e9526924_6992_11e8_a34b_14187745950frow3_col4\" class=\"data row3 col4\" >850</td> \n",
       "        <td id=\"T_e9526924_6992_11e8_a34b_14187745950frow3_col5\" class=\"data row3 col5\" >1342</td> \n",
       "    </tr></tbody> \n",
       "</table> "
      ],
      "text/plain": [
       "<pandas.io.formats.style.Styler at 0x2ac453eed780>"
      ]
     },
     "execution_count": 14,
     "metadata": {},
     "output_type": "execute_result"
    }
   ],
   "source": [
    "import pandas as pd\n",
    "def highlight_max(s):\n",
    "    is_max = s == s.max()\n",
    "    return ['background-color: red' if v else '' for v in is_max]\n",
    "\n",
    "def highlight_min(s):\n",
    "    is_min = s == s.min()\n",
    "    return ['background-color: lightblue' if v else '' for v in is_min]\n",
    "\n",
    "np.random.seed(777)\n",
    "df = pd.DataFrame(np.random.randint(0, high=1500, size=24).reshape((4,6)), columns=list('abcdef'))\n",
    "\n",
    "df.style.apply(highlight_max, axis=1).apply(highlight_min, axis=1)"
   ]
  },
  {
   "cell_type": "markdown",
   "metadata": {},
   "source": [
    "## A small cancer incidence vs. mortality analysis"
   ]
  },
  {
   "cell_type": "code",
   "execution_count": 15,
   "metadata": {},
   "outputs": [
    {
     "data": {
      "application/vnd.jupyter.widget-view+json": {
       "model_id": "d3c7eb65bbda403fafb7088176722b32",
       "version_major": 2,
       "version_minor": 0
      },
      "text/html": [
       "<p>Failed to display Jupyter Widget of type <code>interactive</code>.</p>\n",
       "<p>\n",
       "  If you're reading this message in the Jupyter Notebook or JupyterLab Notebook, it may mean\n",
       "  that the widgets JavaScript is still loading. If this message persists, it\n",
       "  likely means that the widgets JavaScript library is either not installed or\n",
       "  not enabled. See the <a href=\"https://ipywidgets.readthedocs.io/en/stable/user_install.html\">Jupyter\n",
       "  Widgets Documentation</a> for setup instructions.\n",
       "</p>\n",
       "<p>\n",
       "  If you're reading this message in another frontend (for example, a static\n",
       "  rendering on GitHub or <a href=\"https://nbviewer.jupyter.org/\">NBViewer</a>),\n",
       "  it may mean that your frontend doesn't currently support widgets.\n",
       "</p>\n"
      ],
      "text/plain": [
       "interactive(children=(IntSlider(value=1953, description='year', max=2015, min=1953), Output()), _dom_classes=('widget-interact',))"
      ]
     },
     "metadata": {},
     "output_type": "display_data"
    }
   ],
   "source": [
    "import matplotlib.pyplot as plt\n",
    "from functools import lru_cache as cache\n",
    "import ipywidgets as widgets\n",
    "%matplotlib inline\n",
    "\n",
    "data_path = '../data/'\n",
    "incidence = pd.read_excel(data_path+'incidence_per_100k_age_standardized.xlsx', index_col='Area')\n",
    "mortality = data = pd.read_excel(data_path+'mortality_per_100k_age_standardized.xlsx', index_col='Area')\n",
    "\n",
    "@cache(None)\n",
    "def stats(year):\n",
    "    df = pd.concat([incidence[str(year)], mortality[str(year)]], axis=1)\n",
    "    df.columns = ['incidence', 'mortality'] \n",
    "    return df\n",
    "\n",
    "def draw_scatter(year):\n",
    "    df = stats(year)\n",
    "    regions = [s[0:3] for s in df.index.str.replace('\\(uni. distr.\\)', '').values.tolist()]\n",
    "    fig = plt.figure(figsize=(14,7))\n",
    "    plt.scatter(df.incidence, df.mortality, marker='H', s=600, c=['blue', 'green', 'pink', 'gray', 'orange'])\n",
    "    plt.xlabel('cancer incidence', fontsize=18)\n",
    "    plt.ylabel('cancer mortality', fontsize=18)\n",
    "    plt.title('%s' %year, fontsize=20)\n",
    "    plt.xlim(300, 670)\n",
    "    plt.ylim(200, 370);\n",
    "    ax = plt.gca()\n",
    "    for i, r in enumerate(regions):\n",
    "        ax.annotate(r, (df.incidence.values[i]+7, df.mortality.values[i]), fontsize=14)\n",
    "\n",
    "## Visualization\n",
    "for year in np.arange(1953, 2016):\n",
    "    stats(year)\n",
    "\n",
    "widgets.interact(draw_scatter, year=widgets.IntSlider(min=1953, max=2015, value=1953));"
   ]
  },
  {
   "cell_type": "code",
   "execution_count": null,
   "metadata": {},
   "outputs": [],
   "source": []
  }
 ],
 "metadata": {
  "kernelspec": {
   "display_name": "Python 3",
   "language": "python",
   "name": "python3"
  },
  "language_info": {
   "codemirror_mode": {
    "name": "ipython",
    "version": 3
   },
   "file_extension": ".py",
   "mimetype": "text/x-python",
   "name": "python",
   "nbconvert_exporter": "python",
   "pygments_lexer": "ipython3",
   "version": "3.6.4"
  }
 },
 "nbformat": 4,
 "nbformat_minor": 2
}
